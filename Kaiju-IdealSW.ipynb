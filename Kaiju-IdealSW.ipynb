{
 "cells": [
  {
   "cell_type": "code",
   "execution_count": 1,
   "metadata": {},
   "outputs": [],
   "source": [
    "import h5py\n",
    "import numpy as np"
   ]
  },
  {
   "cell_type": "markdown",
   "metadata": {},
   "source": [
    "## Initial values\n",
    "Select the default values for the solar wind and ionospheric parameters"
   ]
  },
  {
   "cell_type": "code",
   "execution_count": 2,
   "metadata": {},
   "outputs": [],
   "source": [
    "TempVal = 1.0e+5     #Default temperature, K                                                                                                                                                       \n",
    "DenVal = 5          #Default density, #/cc                                                                                                                                                               \n",
    "VxVal = 400.0     #Default wind, km/s                                                                                                                                                                  \n",
    "F107Val = 100.0 #Default f10.7 flux                                                                                                                                                                  \n",
    "TiltVal = 0.0      #Default dipole tilt, radians                                                                                                                                                        \n",
    "mjdVal = 51623.0  #Default MJD, set for 2000-03-20 00:00:00 "
   ]
  },
  {
   "cell_type": "markdown",
   "metadata": {},
   "source": [
    "Set start and end time in hours and delta between steps in solar wind file in seconds"
   ]
  },
  {
   "cell_type": "code",
   "execution_count": 3,
   "metadata": {},
   "outputs": [],
   "source": [
    "startTime = 0 # Hours\n",
    "endTime = 8 # Hours\n",
    "dT = 60.0 #Seconds"
   ]
  },
  {
   "cell_type": "code",
   "execution_count": 4,
   "metadata": {},
   "outputs": [],
   "source": [
    "simTime = (endTime-startTime)*3600.0\n",
    "numSteps = np.int(np.ceil(simTime/dT)+1)"
   ]
  },
  {
   "cell_type": "code",
   "execution_count": 5,
   "metadata": {},
   "outputs": [],
   "source": [
    "time = np.linspace(startTime,endTime,numSteps)"
   ]
  },
  {
   "cell_type": "markdown",
   "metadata": {},
   "source": [
    "## Set output arrays to initial values"
   ]
  },
  {
   "cell_type": "markdown",
   "metadata": {},
   "source": [
    "All variables need to be see including all componets of vectors.  For this simple setup we are going to only have Vx and no magnetic field.  Note, the solar wind file is in GSM coordinates so an Earthward directed solar wind is negative Vx."
   ]
  },
  {
   "cell_type": "code",
   "execution_count": 6,
   "metadata": {},
   "outputs": [],
   "source": [
    "Den = np.zeros(numSteps)+DenVal\n",
    "Temp = np.zeros(numSteps)+TempVal\n",
    "Vx = np.zeros(numSteps)-VxVal\n",
    "Vy = np.zeros(numSteps)\n",
    "Vz = np.zeros(numSteps)\n",
    "Bx = np.zeros(numSteps)\n",
    "By = np.zeros(numSteps)\n",
    "Bz = np.zeros(numSteps)\n",
    "F107 = np.zeros(numSteps)+F107Val\n",
    "Tilt = np.zeros(numSteps)+TiltVal\n",
    "Symh = np.zeros(numSteps)\n"
   ]
  },
  {
   "cell_type": "markdown",
   "metadata": {},
   "source": [
    "Modified Julian Date needs to increase from the starting date.  MJD is in fraction of day so to create the MJD array we add time, which is currently in hours so it needs to be devided by 24, to the MJD starting value"
   ]
  },
  {
   "cell_type": "code",
   "execution_count": 7,
   "metadata": {},
   "outputs": [],
   "source": [
    "mjd = mjdVal+time/24.0"
   ]
  },
  {
   "cell_type": "markdown",
   "metadata": {},
   "source": [
    "## Alter solar wind parameters\n",
    "\n",
    "Now we want to solar wind conditions that different from the default initial values.  In this case we are going to start with 2 hours of southward IMF $B_Z$ and then 2 hours northward followed by southward for the duration of the run. "
   ]
  },
  {
   "cell_type": "code",
   "execution_count": 8,
   "metadata": {},
   "outputs": [],
   "source": [
    "Bz[np.where(time<2.0)]=-5.0\n",
    "Bz[np.where(time>2.0)] = 5.0\n",
    "Bz[np.where(time>4.0)] = -5.0"
   ]
  },
  {
   "cell_type": "markdown",
   "metadata": {},
   "source": [
    "## Magnetic Field Coefficents\n",
    "Due do the boundary condition constraints $B_X$ cannot be any arbitary value.  We use $B_X = Bx0 + ByC*B_Y + BzC*B_Z$ as the formula for $B_X$ so we need to set those values before writing the solar wind file. "
   ]
  },
  {
   "cell_type": "code",
   "execution_count": 9,
   "metadata": {},
   "outputs": [],
   "source": [
    "Bx0 = 0.0\n",
    "ByC = 0.0\n",
    "BzC = 0.0"
   ]
  },
  {
   "cell_type": "markdown",
   "metadata": {},
   "source": [
    "## Write Solar wind File\n",
    "\n",
    "Kaiju uses HDF5 for it's solar wind input file.  The file is traditionally called bcwind.h5. Before writing to the file we will need to convert from traditonal units to code input units. "
   ]
  },
  {
   "cell_type": "code",
   "execution_count": 10,
   "metadata": {},
   "outputs": [],
   "source": [
    "TimeScl = 3600.0 #hrs -> sec\n",
    "VScl = 1.0e3 #km/s -> m/s\n",
    "BScl = 1.0 #nT\n",
    "DenScl = 1.0 # cc\n",
    "TempScl = 1.0 #K"
   ]
  },
  {
   "cell_type": "code",
   "execution_count": 11,
   "metadata": {},
   "outputs": [],
   "source": [
    "fname = 'bcwind.h5'"
   ]
  },
  {
   "cell_type": "code",
   "execution_count": 12,
   "metadata": {},
   "outputs": [],
   "source": [
    "with h5py.File(fname,'w') as hf:\n",
    "    hf.create_dataset(\"T\",data=TimeScl*time)\n",
    "    hf.create_dataset(\"D\",data=Den*DenScl)\n",
    "    hf.create_dataset(\"Temp\",data=Temp*TempScl)\n",
    "    hf.create_dataset(\"Vx\",data=Vx*VScl)\n",
    "    hf.create_dataset(\"Vy\",data=Vy*VScl)\n",
    "    hf.create_dataset(\"Vz\",data=Vz*VScl)\n",
    "    hf.create_dataset(\"Bx\",data=Bx*BScl)\n",
    "    hf.create_dataset(\"By\",data=By*BScl)\n",
    "    hf.create_dataset(\"Bz\",data=Bz*BScl)\n",
    "    hf.create_dataset(\"tilt\",data=Tilt)\n",
    "    hf.create_dataset(\"f10.7\",data=F107)\n",
    "    hf.create_dataset(\"MJD\",data=mjd)\n",
    "    hf.create_dataset(\"symh\",data=Symh)\n",
    "    hf.create_dataset(\"Bx0\",data=Bx0)\n",
    "    hf.create_dataset(\"ByC\",data=ByC)\n",
    "    hf.create_dataset(\"BzC\",data=BzC)"
   ]
  },
  {
   "cell_type": "code",
   "execution_count": null,
   "metadata": {},
   "outputs": [],
   "source": []
  }
 ],
 "metadata": {
  "kernelspec": {
   "display_name": "Python 3",
   "language": "python",
   "name": "python3"
  },
  "language_info": {
   "codemirror_mode": {
    "name": "ipython",
    "version": 3
   },
   "file_extension": ".py",
   "mimetype": "text/x-python",
   "name": "python",
   "nbconvert_exporter": "python",
   "pygments_lexer": "ipython3",
   "version": "3.7.9"
  }
 },
 "nbformat": 4,
 "nbformat_minor": 4
}
